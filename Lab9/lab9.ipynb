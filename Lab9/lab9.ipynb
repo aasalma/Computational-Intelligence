{
 "cells": [
  {
   "cell_type": "markdown",
   "metadata": {},
   "source": [
    "Copyright **`(c)`** 2023 Giovanni Squillero `<giovanni.squillero@polito.it>`  \n",
    "[`https://github.com/squillero/computational-intelligence`](https://github.com/squillero/computational-intelligence)  \n",
    "Free for personal or classroom use; see [`LICENSE.md`](https://github.com/squillero/computational-intelligence/blob/master/LICENSE.md) for details.  "
   ]
  },
  {
   "cell_type": "markdown",
   "metadata": {},
   "source": [
    "# LAB9\n",
    "\n",
    "Write a local-search algorithm (eg. an EA) able to solve the *Problem* instances 1, 2, 5, and 10 on a 1000-loci genomes, using a minimum number of fitness calls. That's all.\n",
    "\n",
    "### Deadlines:\n",
    "\n",
    "* Submission: Sunday, December 3 ([CET](https://www.timeanddate.com/time/zones/cet))\n",
    "* Reviews: Sunday, December 10 ([CET](https://www.timeanddate.com/time/zones/cet))\n",
    "\n",
    "Notes:\n",
    "\n",
    "* Reviews will be assigned  on Monday, December 4\n",
    "* You need to commit in order to be selected as a reviewer (ie. better to commit an empty work than not to commit)"
   ]
  },
  {
   "cell_type": "code",
   "execution_count": 3,
   "metadata": {},
   "outputs": [],
   "source": [
    "from random import choices, randint\n",
    "\n",
    "import lab9_lib"
   ]
  },
  {
   "cell_type": "code",
   "execution_count": 2,
   "metadata": {},
   "outputs": [
    {
     "name": "stdout",
     "output_type": "stream",
     "text": [
      "10001110111101001100001100111011010001010110101000: 7.33%\n",
      "11111111110111101101011001001011111101100010011011: 9.11%\n",
      "10011011011110010000000011101100011010111111100001: 15.33%\n",
      "11100001101001001011110111100101011100000010010110: 29.56%\n",
      "00100100001000011001000010101111101111000000101000: 7.34%\n",
      "11111100000010010111011011101111001010101101010001: 15.33%\n",
      "00110110110110011110000000001100001011110011010000: 7.33%\n",
      "01000000111010101001101000000000011000111111000001: 7.34%\n",
      "00011101110100101100100101100110111000111011011111: 15.33%\n",
      "10110101000001001000001110011001101011010110101010: 7.33%\n",
      "10\n"
     ]
    }
   ],
   "source": [
    "fitness = lab9_lib.make_problem(10)                                    #fitness is an instance of the class Problem (subclass of AbstractProblem)\n",
    "for n in range(10):\n",
    "    ind = choices([0, 1], k=50)                                        #ind is the genome\n",
    "    print(f\"{''.join(str(g) for g in ind)}: {fitness(ind):.2%}\")       #fitness(ind) calls the function __call__ which calculates the fitness value\n",
    "\n",
    "print(fitness.calls)"
   ]
  },
  {
   "cell_type": "code",
   "execution_count": 4,
   "metadata": {},
   "outputs": [],
   "source": [
    "def mutate(individual):\n",
    "    mutation_point = randint(0, len(individual) - 1)\n",
    "    individual[mutation_point] = 1 - individual[mutation_point]  # Flip 0 to 1 and vice versa\n",
    "    return individual"
   ]
  },
  {
   "cell_type": "code",
   "execution_count": 5,
   "metadata": {},
   "outputs": [],
   "source": [
    "def one_plus_one_es(problem, iterations):\n",
    "    genome_length = 1000\n",
    "    best_individual = choices([0, 1], k=genome_length)\n",
    "    best_fitness = problem(best_individual)\n",
    "    \n",
    "    for _ in range(iterations):\n",
    "        mutated_individual = mutate(best_individual.copy())\n",
    "        mutated_fitness = problem(mutated_individual)\n",
    "\n",
    "        if mutated_fitness >= best_fitness:\n",
    "            best_individual = mutated_individual\n",
    "            best_fitness = mutated_fitness\n",
    "\n",
    "    return best_individual, best_fitness"
   ]
  },
  {
   "cell_type": "code",
   "execution_count": 7,
   "metadata": {},
   "outputs": [
    {
     "name": "stdout",
     "output_type": "stream",
     "text": [
      "Best solution: 1111011011111110011101111010111111110110101111111111011011101111011111111111111111010111111111101101101110111111101011101111111110101111111010011100110111111111110111101110111100111101011011111111111111111111100001111111111101010111111111111100111101101011111111111011111111111111111111001011101111111011111111111111111011111111111111111111010111111111111101111101011111110001111111111011011011000111111110111010111010101101101111101111111111101101100101111101111111101101111111110110111101111110111111100101110011111011111010101110111111111111110111110101111011111101101110101011101101111111101001111111111111111111111000111111101111111111001111111011011101111111101101111111011011110011111111111111110101111011111110111101111111011111111111101111111101011101111011111111111111111111111101111101111110111001111111011111111111101111110111111111111001001110110111111111111010111111011101111111100100010011101111011111101111011110111111100110111111110101111011111101111111111010011111001111111011111111\n",
      "Best fitness: 81.40%\n",
      "Total fitness calls: 1001\n"
     ]
    }
   ],
   "source": [
    "problem_instance = lab9_lib.make_problem(1)  # Replace 1 with 2, 5, or 10 \n",
    "iterations = 1000  # Adjust the number of iterations as needed\n",
    "\n",
    "best_solution, best_fitness = one_plus_one_es(problem_instance, iterations)\n",
    "\n",
    "print(f\"Best solution: {''.join(map(str, best_solution))}\")\n",
    "print(f\"Best fitness: {best_fitness:.2%}\")\n",
    "print(f\"Total fitness calls: {problem_instance.calls}\")"
   ]
  }
 ],
 "metadata": {
  "kernelspec": {
   "display_name": "ci-fLJ3OwGs-py3.12",
   "language": "python",
   "name": "python3"
  },
  "language_info": {
   "codemirror_mode": {
    "name": "ipython",
    "version": 3
   },
   "file_extension": ".py",
   "mimetype": "text/x-python",
   "name": "python",
   "nbconvert_exporter": "python",
   "pygments_lexer": "ipython3",
   "version": "3.9.13"
  }
 },
 "nbformat": 4,
 "nbformat_minor": 2
}
