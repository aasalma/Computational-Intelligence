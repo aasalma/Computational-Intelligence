{
 "cells": [
  {
   "cell_type": "markdown",
   "metadata": {},
   "source": [
    "Copyright **`(c)`** 2023 Giovanni Squillero `<giovanni.squillero@polito.it>`  \n",
    "[`https://github.com/squillero/computational-intelligence`](https://github.com/squillero/computational-intelligence)  \n",
    "Free for personal or classroom use; see [`LICENSE.md`](https://github.com/squillero/computational-intelligence/blob/master/LICENSE.md) for details.  "
   ]
  },
  {
   "cell_type": "markdown",
   "metadata": {},
   "source": [
    "# LAB9\n",
    "\n",
    "Write a local-search algorithm (eg. an EA) able to solve the *Problem* instances 1, 2, 5, and 10 on a 1000-loci genomes, using a minimum number of fitness calls. That's all.\n",
    "\n",
    "### Deadlines:\n",
    "\n",
    "* Submission: Sunday, December 3 ([CET](https://www.timeanddate.com/time/zones/cet))\n",
    "* Reviews: Sunday, December 10 ([CET](https://www.timeanddate.com/time/zones/cet))\n",
    "\n",
    "Notes:\n",
    "\n",
    "* Reviews will be assigned  on Monday, December 4\n",
    "* You need to commit in order to be selected as a reviewer (ie. better to commit an empty work than not to commit)"
   ]
  },
  {
   "cell_type": "code",
   "execution_count": 48,
   "metadata": {},
   "outputs": [],
   "source": [
    "from random import choices, randint\n",
    "\n",
    "import lab9_lib"
   ]
  },
  {
   "cell_type": "code",
   "execution_count": 49,
   "metadata": {},
   "outputs": [
    {
     "name": "stdout",
     "output_type": "stream",
     "text": [
      "10000110101110000011101110000111001100000001000110: 7.36%\n",
      "10101001111100101101110100011010101000111010101101: 9.11%\n",
      "01100100100001010001010000010001011010111001100001: 17.56%\n",
      "00001011001101101011011011001111101110001000000001: 7.33%\n",
      "00101111110100110101011111010101110111001011001000: 23.33%\n",
      "10000111010001110100001000110110100000011100110111: 15.34%\n",
      "01011100110110011111001101111011100010111110100100: 23.33%\n",
      "10100100001010100001011011101010110001011010011000: 9.14%\n",
      "11011011011110000010111100001101000001110111010010: 9.13%\n",
      "00011000010011000001011111001110011110001000011100: 7.33%\n",
      "10\n"
     ]
    }
   ],
   "source": [
    "fitness = lab9_lib.make_problem(10)                                    #fitness is an instance of the class Problem (subclass of AbstractProblem)\n",
    "for n in range(10):\n",
    "    ind = choices([0, 1], k=50)                                        #ind is the genome\n",
    "    print(f\"{''.join(str(g) for g in ind)}: {fitness(ind):.2%}\")       #fitness(ind) calls the function __call__ which calculates the fitness value\n",
    "\n",
    "print(fitness.calls)"
   ]
  },
  {
   "cell_type": "markdown",
   "metadata": {},
   "source": [
    "# (1 + 1) ES"
   ]
  },
  {
   "cell_type": "code",
   "execution_count": 50,
   "metadata": {},
   "outputs": [],
   "source": [
    "def mutate(individual):\n",
    "    mutation_point = randint(0, len(individual) - 1)\n",
    "    individual[mutation_point] = 1 - individual[mutation_point]  # Flip 0 to 1 and vice versa\n",
    "    return individual"
   ]
  },
  {
   "cell_type": "code",
   "execution_count": 51,
   "metadata": {},
   "outputs": [],
   "source": [
    "# (1+1) ES\n",
    "def one_plus_one_es(problem, iterations):\n",
    "    genome_length = 1000\n",
    "    best_individual = choices([0, 1], k=genome_length)\n",
    "    best_fitness = problem(best_individual)\n",
    "    \n",
    "    for _ in range(iterations):\n",
    "        mutated_individual = mutate(best_individual.copy())\n",
    "        mutated_fitness = problem(mutated_individual)\n",
    "\n",
    "        if mutated_fitness >= best_fitness:\n",
    "            best_individual = mutated_individual\n",
    "            best_fitness = mutated_fitness\n",
    "\n",
    "    return best_individual, best_fitness"
   ]
  },
  {
   "cell_type": "code",
   "execution_count": 53,
   "metadata": {},
   "outputs": [
    {
     "name": "stdout",
     "output_type": "stream",
     "text": [
      "Best solution: 0100100001010000100101001010000000101001010010000000001010010100001001000000100100001000000000100001000000000001000000000100000000000010100001001000010000101001000010100100001010000100001000010010100000000010000000001000000010100000001000000100000001010010100101001000000000101000000010000100000010010100000001000010100000000000000100000000010010100001000010010100000000010010100001000000000000100001010000100000000000000100100001000000100101001000000000100000010000000101000010010100001000010010000101000010000100101001000000100101001010000100001001000010100100000010000100100000010000000100001010010100001001000010000101001010010100100000010010000101001000010000101000000010100001000000010000000001000000100001000000010100000000010000000100000010010000100001010000100100001010010000100000000010000101001010010100100001000000000001001010000100000001000000100101001010000000100001000000000001000010000100100001010010100100001010000000001001010000000100001010010100001001010000000000001000000100101001\n",
      "Best fitness: 21.60%\n",
      "Total fitness calls: 10001\n"
     ]
    }
   ],
   "source": [
    "#test (1+1+) ES:\n",
    "problem_instance = lab9_lib.make_problem(5)  # Replace 1 with 2, 5, or 10 \n",
    "iterations = 10000  # Adjust the number of iterations as needed\n",
    "\n",
    "best_solution, best_fitness = one_plus_one_es(problem_instance, iterations)\n",
    "\n",
    "print(f\"Best solution: {''.join(map(str, best_solution))}\")\n",
    "print(f\"Best fitness: {best_fitness:.2%}\")\n",
    "print(f\"Total fitness calls: {problem_instance.calls}\")"
   ]
  },
  {
   "cell_type": "markdown",
   "metadata": {},
   "source": [
    "# Mu + lambda ES"
   ]
  },
  {
   "cell_type": "code",
   "execution_count": 54,
   "metadata": {},
   "outputs": [],
   "source": [
    "# (mu+lamda) ES\n",
    "def mu_plus_lambda_es(problem, mu, lmbda, generations):\n",
    "    genome_length = 1000\n",
    "    population = [choices([0, 1], k=genome_length) for _ in range(mu)]\n",
    "    \n",
    "    for generation in range(generations):\n",
    "        offspring = generate_offspring(population, lmbda)\n",
    "        combined_population = population + offspring\n",
    "\n",
    "        combined_population.sort(key=lambda ind: -problem(ind))\n",
    "\n",
    "        population = combined_population[:mu]\n",
    "\n",
    "    best_individual = max(population, key=problem)\n",
    "    best_fitness = problem(best_individual)\n",
    "\n",
    "    return best_individual, best_fitness\n",
    "\n",
    "def generate_offspring(parents, lmbda):\n",
    "    offspring = []\n",
    "    for _ in range(lmbda):\n",
    "        parent = choices(parents)[0]\n",
    "        mutated_individual = mutate(parent.copy())\n",
    "        offspring.append(mutated_individual)\n",
    "\n",
    "    return offspring\n",
    "\n",
    "def mutate(individual):\n",
    "    mutation_point = randint(0, len(individual) - 1)\n",
    "    individual[mutation_point] = 1 - individual[mutation_point]  # Flip 0 to 1 and vice versa\n",
    "    return individual"
   ]
  },
  {
   "cell_type": "code",
   "execution_count": 58,
   "metadata": {},
   "outputs": [
    {
     "name": "stdout",
     "output_type": "stream",
     "text": [
      "Best solution: 1111111111111111111111111111111111111111111111111111111111111111111111111111111111111111111111111111111111111111111111111111111111111111111111111111111111111111111111111111111111111111111111111111111111111111111111111111111111111111111111111111111111111111111111111111111111111111111111111111111111111111111111111111111111111111111111111111111111111111111111111111111111111111111111111111111111111111111111111111111111111111111111111111111111111111111111111111111111111111111111111111111111111111111111111111111111111111111111111111111111111111111111111111111111111111111111111111111101111111111111111111111111111111111111111111111111111111111111111111111111111111111111111111111111111111111111111111111111111111111111111111111111111111111111111111111111111110111111111111111111101111111111111111111111111111111111111111111111111111111111111111111111111111111111111111111111111111111111111111111111111111111111111111111111111111111111111111111111111111111111111111111111111111111111111111111111111111\n",
      "Best fitness: 99.70%\n",
      "Total fitness calls: 25006\n"
     ]
    }
   ],
   "source": [
    "#test (mu+lamda) ES\n",
    "problem_instance = lab9_lib.make_problem(1)  # You can replace 1 with 2, 5, or 10 for different instances\n",
    "mu = 5\n",
    "lmbda = 20\n",
    "generations = 1000\n",
    "\n",
    "best_solution, best_fitness = mu_plus_lambda_es(problem_instance, mu, lmbda, generations)\n",
    "\n",
    "print(f\"Best solution: {''.join(map(str, best_solution))}\")\n",
    "print(f\"Best fitness: {best_fitness:.2%}\")\n",
    "print(f\"Total fitness calls: {problem_instance.calls}\")"
   ]
  }
 ],
 "metadata": {
  "kernelspec": {
   "display_name": "ci-fLJ3OwGs-py3.12",
   "language": "python",
   "name": "python3"
  },
  "language_info": {
   "codemirror_mode": {
    "name": "ipython",
    "version": 3
   },
   "file_extension": ".py",
   "mimetype": "text/x-python",
   "name": "python",
   "nbconvert_exporter": "python",
   "pygments_lexer": "ipython3",
   "version": "3.9.13"
  }
 },
 "nbformat": 4,
 "nbformat_minor": 2
}
