{
 "cells": [
  {
   "cell_type": "code",
   "execution_count": 1,
   "metadata": {},
   "outputs": [],
   "source": [
    "# Jupyter Notebook for Training Q-learning Player in Quixo Game\n",
    "\n",
    "import random\n",
    "import numpy as np\n",
    "from game import Game, Move, Player\n",
    "\n",
    "class RandomPlayer(Player):\n",
    "    def __init__(self) -> None:\n",
    "        super().__init__()\n",
    "\n",
    "    def make_move(self, game: 'Game') -> tuple[tuple[int, int], Move]:\n",
    "        from_pos = (random.randint(0, 4), random.randint(0, 4))\n",
    "        move = random.choice([Move.TOP, Move.BOTTOM, Move.LEFT, Move.RIGHT])\n",
    "        return from_pos, move\n",
    "\n",
    "class MyPlayer(Player):\n",
    "    def __init__(self, learning_rate=0.1, discount_factor=0.9, exploration_prob=0.1) -> None:\n",
    "        super().__init__()\n",
    "        self.learning_rate = learning_rate\n",
    "        self.discount_factor = discount_factor\n",
    "        self.exploration_prob = exploration_prob\n",
    "        self.q_values = {}\n",
    "\n",
    "    def make_move(self, game: 'Game') -> tuple[tuple[int, int], Move]:\n",
    "        state = self.get_state_representation(game)\n",
    "        \n",
    "        if np.random.rand() < self.exploration_prob:\n",
    "            from_pos = (random.randint(0, 4), random.randint(0, 4))\n",
    "            move = random.choice([Move.TOP, Move.BOTTOM, Move.LEFT, Move.RIGHT])\n",
    "        else:\n",
    "            valid_moves = self.get_valid_moves(game)\n",
    "            action_values = self.q_values.get(state, {action: 0 for action in valid_moves})\n",
    "            best_action = max(action_values, key=action_values.get)\n",
    "            from_pos, move = self.decode_action(best_action)\n",
    "\n",
    "        return from_pos, move\n",
    "\n",
    "    def get_state_representation(self, game: 'Game') -> str:\n",
    "        return str(game.get_board().flatten().tolist() + [game.get_current_player()])\n",
    "\n",
    "    def encode_action(self, from_pos: tuple[int, int], move: Move) -> str:\n",
    "        return f\"{from_pos[0]},{from_pos[1]},{move.value}\"\n",
    "\n",
    "    def decode_action(self, action: str) -> tuple[tuple[int, int], Move]:\n",
    "        parts = action.split(',')\n",
    "        return (int(parts[0]), int(parts[1])), Move(int(parts[2]))\n",
    "\n",
    "    def get_valid_moves(self, game: 'Game') -> list[str]:\n",
    "        valid_moves = []\n",
    "        for x in range(5):\n",
    "            for y in range(5):\n",
    "                for move in [Move.TOP, Move.BOTTOM, Move.LEFT, Move.RIGHT]:\n",
    "                    if game._board[x, y] == -1 or (x == 0 and move == Move.TOP) or (x == 4 and move == Move.BOTTOM) or \\\n",
    "                       (y == 0 and move == Move.LEFT) or (y == 4 and move == Move.RIGHT):\n",
    "                        valid_moves.append(self.encode_action((x, y), move))\n",
    "        return valid_moves\n",
    "\n",
    "    def update_q_values(self, state: str, action: str, reward: int, next_state: str) -> None:\n",
    "        current_q_value = self.q_values.get(state, {}).get(action, 0)\n",
    "        max_next_q_value = max(self.q_values.get(next_state, {}).values(), default=0)\n",
    "        new_q_value = (1 - self.learning_rate) * current_q_value + self.learning_rate * (reward + self.discount_factor * max_next_q_value)\n",
    "        \n",
    "        if state not in self.q_values:\n",
    "            self.q_values[state] = {}\n",
    "        self.q_values[state][action] = new_q_value\n",
    "\n",
    "# Training the Q-learning player\n",
    "def train_q_learning_player(player, num_episodes=1000):\n",
    "    for _ in range(num_episodes):\n",
    "        g = Game()\n",
    "        player.q_values = {}  # Reset Q-values for each episode\n",
    "        winner = g.play(player, RandomPlayer())\n",
    "        if winner == 1:\n",
    "            reward = 1  # Positive reward for winning\n",
    "        else:\n",
    "            reward = -1  # Negative reward for losing\n",
    "        player.update_q_values(\"\", \"\", reward, \"\")  # Update Q-values based on the outcome of the episode\n",
    "\n"
   ]
  },
  {
   "cell_type": "code",
   "execution_count": 2,
   "metadata": {},
   "outputs": [],
   "source": [
    "#training:\n",
    "my_player = MyPlayer()\n",
    "train_q_learning_player(my_player, num_episodes=1000)\n"
   ]
  },
  {
   "cell_type": "code",
   "execution_count": 3,
   "metadata": {},
   "outputs": [
    {
     "name": "stdout",
     "output_type": "stream",
     "text": [
      "Winning Rate: 51.00%\n"
     ]
    }
   ],
   "source": [
    "# Assuming my_player has already been created and trained in Cell 2\n",
    "\n",
    "num_games = 100\n",
    "wins = 0\n",
    "\n",
    "for _ in range(num_games):\n",
    "    g = Game()\n",
    "    winner = g.play(my_player, RandomPlayer())\n",
    "    if winner == 0:\n",
    "        wins += 1\n",
    "\n",
    "winning_rate = wins / num_games\n",
    "print(f\"Winning Rate: {winning_rate * 100:.2f}%\")\n"
   ]
  }
 ],
 "metadata": {
  "kernelspec": {
   "display_name": "Python 3",
   "language": "python",
   "name": "python3"
  },
  "language_info": {
   "codemirror_mode": {
    "name": "ipython",
    "version": 3
   },
   "file_extension": ".py",
   "mimetype": "text/x-python",
   "name": "python",
   "nbconvert_exporter": "python",
   "pygments_lexer": "ipython3",
   "version": "3.12.1"
  }
 },
 "nbformat": 4,
 "nbformat_minor": 2
}
